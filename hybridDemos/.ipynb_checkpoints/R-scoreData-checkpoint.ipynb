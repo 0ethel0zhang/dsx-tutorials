{
 "cells": [
  {
   "cell_type": "markdown",
   "metadata": {
    "collapsed": true
   },
   "source": [
    "# Score New Data with R and `R4WML`\n",
    "From the Scala Spark Model Developed for `Use Case 1` <br>\n",
    "This notebook should be used as a companion to another [tutorial on our blog](https://medium.com/@adammassachi/dsx-hybrid-mode-91b580450c5b).   "
   ]
  },
  {
   "cell_type": "markdown",
   "metadata": {},
   "source": [
    "** Install `R4WML` **"
   ]
  },
  {
   "cell_type": "code",
   "execution_count": 1,
   "metadata": {},
   "outputs": [
    {
     "name": "stderr",
     "output_type": "stream",
     "text": [
      "Skipping install of 'R4WML' from a github remote, the SHA1 (c16003fd) has not changed since last install.\n",
      "  Use `force = TRUE` to force installation\n"
     ]
    }
   ],
   "source": [
    "# install R4WML from Github\n",
    "devtools::install_github(repo = 'IBMDataScience/R4WML')"
   ]
  },
  {
   "cell_type": "markdown",
   "metadata": {},
   "source": [
    "**Bring in the data**"
   ]
  },
  {
   "cell_type": "code",
   "execution_count": 14,
   "metadata": {},
   "outputs": [
    {
     "name": "stdout",
     "output_type": "stream",
     "text": [
      "'data.frame':\t73147 obs. of  8 variables:\n",
      " $ VIOLATION_CODE       : chr  \"EV1111\" \"CN067024\" \"CN198019\" \"CN134016\" ...\n",
      " $ VIOLATION_DESCRIPTION: chr  \"MAINTAIN OR REPAIR HYDRO ELEVA\" \"REPAIR EAVES\" \"FILE BLDG REGISTRATION\" \"RATS\" ...\n",
      " $ INSPECTION_STATUS    : chr  \"FAILED\" \"FAILED\" \"FAILED\" \"FAILED\" ...\n",
      " $ INSPECTOR_ID         : chr  \"385638\" \"BL01000\" \"BL00722\" \"BL00722\" ...\n",
      " $ INSPECTION_CATEGORY  : chr  \"PERMIT\" \"COMPLAINT\" \"COMPLAINT\" \"COMPLAINT\" ...\n",
      " $ DEPARTMENT_BUREAU    : chr  \"ELEVATOR\" \"CONSERVATION\" \"CONSERVATION\" \"CONSERVATION\" ...\n",
      " $ LATITUDE             : num  41.9 41.9 41.9 41.9 41.9 ...\n",
      " $ LONGITUDE            : num  -87.7 -87.7 -87.7 -87.7 -87.7 ...\n"
     ]
    }
   ],
   "source": [
    "buildingTestDF <- read.csv('../datasets/part-r-00000-620e16a4-9c66-4d9a-b5e4-1dcb7d881725.csv', stringsAsFactors=F)\n",
    "str(buildingTestDF)"
   ]
  },
  {
   "cell_type": "markdown",
   "metadata": {},
   "source": [
    "** Credentials **"
   ]
  },
  {
   "cell_type": "code",
   "execution_count": 15,
   "metadata": {},
   "outputs": [],
   "source": [
    "library(R4WML)"
   ]
  },
  {
   "cell_type": "code",
   "execution_count": 16,
   "metadata": {
    "collapsed": true
   },
   "outputs": [],
   "source": [
    "## put your credentials here\n",
    "watson_ml_creds_url <- \"https://ibm-watson-ml.mybluemix.net\"\n",
    "watson_ml_creds_username <- \"************\"\n",
    "watson_ml_creds_password <- \"************\"\n",
    "watsom_ml_creds_instanceID <- \"************\""
   ]
  },
  {
   "cell_type": "markdown",
   "metadata": {},
   "source": [
    "** Define endpoints ** <br>\n",
    "Find this endpoint as indicated in the blog"
   ]
  },
  {
   "cell_type": "code",
   "execution_count": 17,
   "metadata": {
    "collapsed": true
   },
   "outputs": [],
   "source": [
    "ml_endpoint.scalaSpark <- \"https://ibm-watson-ml.mybluemix.net/v3/wml_instances/0b917078-2507-4590-b152-9904dfdff9d9/published_models/bcbf46f6-a5bc-4ed9-bc78-a90940711c6b/deployments/698ce608-9a34-451b-9424-d0e1f3948e0c/online\""
   ]
  },
  {
   "cell_type": "code",
   "execution_count": 18,
   "metadata": {},
   "outputs": [],
   "source": [
    "watson_ml_creds_auth_headers <- get_wml_auth_headers(watson_ml_creds_url, watson_ml_creds_username, watson_ml_creds_password)"
   ]
  },
  {
   "cell_type": "markdown",
   "metadata": {},
   "source": [
    "**Make API Payload** <br>\n",
    "We can use `to_wml_payload` to convert an R data frame into valid JSON for the API"
   ]
  },
  {
   "cell_type": "code",
   "execution_count": 19,
   "metadata": {},
   "outputs": [],
   "source": [
    "payload <- to_wml_payload(buildingTestDF[1:2,])"
   ]
  },
  {
   "cell_type": "code",
   "execution_count": 20,
   "metadata": {},
   "outputs": [
    {
     "data": {
      "text/plain": [
       "{\"fields\":[\"VIOLATION_CODE\",\"VIOLATION_DESCRIPTION\",\"INSPECTION_STATUS\",\"INSPECTOR_ID\",\"INSPECTION_CATEGORY\",\"DEPARTMENT_BUREAU\",\"LATITUDE\",\"LONGITUDE\"],\"values\":[[\"EV1111\",\"MAINTAIN OR REPAIR HYDRO ELEVA\",\"FAILED\",\"385638\",\"PERMIT\",\"ELEVATOR\",41.913,-87.7275],[\"CN067024\",\"REPAIR EAVES\",\"FAILED\",\"BL01000\",\"COMPLAINT\",\"CONSERVATION\",41.902,-87.7225]]} "
      ]
     },
     "metadata": {},
     "output_type": "display_data"
    }
   ],
   "source": [
    "payload"
   ]
  },
  {
   "cell_type": "markdown",
   "metadata": {},
   "source": [
    "**Score** <br>\n",
    "Use the `from_wml_payload` and `wml_score` functions. "
   ]
  },
  {
   "cell_type": "code",
   "execution_count": 22,
   "metadata": {},
   "outputs": [],
   "source": [
    "results <- from_wml_payload(wml_score(ml_endpoint.scalaSpark, auth_headers = watson_ml_creds_auth_headers, payload = payload))"
   ]
  },
  {
   "cell_type": "code",
   "execution_count": 23,
   "metadata": {},
   "outputs": [
    {
     "data": {
      "text/html": [
       "<table>\n",
       "<thead><tr><th scope=col>VIOLATION_CODE</th><th scope=col>VIOLATION_DESCRIPTION</th><th scope=col>INSPECTION_STATUS</th><th scope=col>INSPECTOR_ID</th><th scope=col>INSPECTION_CATEGORY</th><th scope=col>DEPARTMENT_BUREAU</th><th scope=col>LATITUDE</th><th scope=col>LONGITUDE</th><th scope=col>prediction</th><th scope=col>probability</th></tr></thead>\n",
       "<tbody>\n",
       "\t<tr><td>EV1111                        </td><td>MAINTAIN OR REPAIR HYDRO ELEVA</td><td>FAILED                        </td><td>385638                        </td><td>PERMIT                        </td><td>ELEVATOR                      </td><td>41.913                        </td><td>-87.7275                      </td><td>0                             </td><td>0.6152193, 0.3847807          </td></tr>\n",
       "\t<tr><td>CN067024            </td><td>REPAIR EAVES        </td><td>FAILED              </td><td>BL01000             </td><td>COMPLAINT           </td><td>CONSERVATION        </td><td>41.902              </td><td>-87.7225            </td><td>0                   </td><td>0.8504104, 0.1495896</td></tr>\n",
       "</tbody>\n",
       "</table>\n"
      ],
      "text/latex": [
       "\\begin{tabular}{r|llllllllll}\n",
       " VIOLATION\\_CODE & VIOLATION\\_DESCRIPTION & INSPECTION\\_STATUS & INSPECTOR\\_ID & INSPECTION\\_CATEGORY & DEPARTMENT\\_BUREAU & LATITUDE & LONGITUDE & prediction & probability\\\\\n",
       "\\hline\n",
       "\t EV1111                         & MAINTAIN OR REPAIR HYDRO ELEVA & FAILED                         & 385638                         & PERMIT                         & ELEVATOR                       & 41.913                         & -87.7275                       & 0                              & 0.6152193, 0.3847807          \\\\\n",
       "\t CN067024             & REPAIR EAVES         & FAILED               & BL01000              & COMPLAINT            & CONSERVATION         & 41.902               & -87.7225             & 0                    & 0.8504104, 0.1495896\\\\\n",
       "\\end{tabular}\n"
      ],
      "text/markdown": [
       "\n",
       "VIOLATION_CODE | VIOLATION_DESCRIPTION | INSPECTION_STATUS | INSPECTOR_ID | INSPECTION_CATEGORY | DEPARTMENT_BUREAU | LATITUDE | LONGITUDE | prediction | probability | \n",
       "|---|---|\n",
       "| EV1111                         | MAINTAIN OR REPAIR HYDRO ELEVA | FAILED                         | 385638                         | PERMIT                         | ELEVATOR                       | 41.913                         | -87.7275                       | 0                              | 0.6152193, 0.3847807           | \n",
       "| CN067024             | REPAIR EAVES         | FAILED               | BL01000              | COMPLAINT            | CONSERVATION         | 41.902               | -87.7225             | 0                    | 0.8504104, 0.1495896 | \n",
       "\n",
       "\n"
      ],
      "text/plain": [
       "  VIOLATION_CODE VIOLATION_DESCRIPTION          INSPECTION_STATUS INSPECTOR_ID\n",
       "1 EV1111         MAINTAIN OR REPAIR HYDRO ELEVA FAILED            385638      \n",
       "2 CN067024       REPAIR EAVES                   FAILED            BL01000     \n",
       "  INSPECTION_CATEGORY DEPARTMENT_BUREAU LATITUDE LONGITUDE prediction\n",
       "1 PERMIT              ELEVATOR          41.913   -87.7275  0         \n",
       "2 COMPLAINT           CONSERVATION      41.902   -87.7225  0         \n",
       "  probability         \n",
       "1 0.6152193, 0.3847807\n",
       "2 0.8504104, 0.1495896"
      ]
     },
     "metadata": {},
     "output_type": "display_data"
    }
   ],
   "source": [
    "results"
   ]
  },
  {
   "cell_type": "markdown",
   "metadata": {},
   "source": [
    "Reference the [blog](https://medium.com/@adammassachi/dsx-hybrid-mode-91b580450c5b)\n",
    "\n",
    "____________\n",
    "\n",
    "### Author\n",
    "Adam Massachi is a Data Scientist with the Data Science Experience and Watson Data Platform teams at IBM. Before IBM, he worked on political campaigns, building and managing large volunteer operations and organizing campaign finance initiatives. Say hello [@adammassach](https://twitter.com/adammassach?lang=en)!\n",
    "\n",
    "Copyright © IBM Corp. 2017. This notebook and its source code are released under the terms of the MIT License."
   ]
  }
 ],
 "metadata": {
  "kernelspec": {
   "display_name": "R",
   "language": "R",
   "name": "ir"
  },
  "language_info": {
   "codemirror_mode": "r",
   "file_extension": ".r",
   "mimetype": "text/x-r-source",
   "name": "R",
   "pygments_lexer": "r",
   "version": "3.3.2"
  }
 },
 "nbformat": 4,
 "nbformat_minor": 2
}
